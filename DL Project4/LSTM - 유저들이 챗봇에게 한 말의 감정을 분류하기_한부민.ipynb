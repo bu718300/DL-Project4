{
 "cells": [
  {
   "cell_type": "code",
   "execution_count": 1,
   "metadata": {},
   "outputs": [],
   "source": [
    "import tensorflow as tf\n",
    "from tensorflow.keras.layers import Input, Dense, LSTM, Embedding, Dropout, Activation, BatchNormalization\n",
    "from tensorflow.keras.models import Model, Sequential\n",
    "from tensorflow.keras.preprocessing.text import one_hot\n",
    "from tensorflow.keras.preprocessing.sequence import pad_sequences\n",
    "from tensorflow.keras.utils import plot_model\n",
    "from tensorflow.keras.callbacks import EarlyStopping, ModelCheckpoint"
   ]
  },
  {
   "cell_type": "code",
   "execution_count": 2,
   "metadata": {},
   "outputs": [],
   "source": [
    "import numpy as np\n",
    "import pandas as pd\n",
    "import matplotlib.pyplot as plt\n",
    "from matplotlib import font_manager, rc\n",
    "plt.rcParams['axes.unicode_minus'] = False\n",
    "f_path = \"C:/Windows/Fonts/malgun.ttf\"\n",
    "font_name = font_manager.FontProperties(fname=f_path).get_name()\n",
    "rc('font', family=font_name) # 한글처리\n",
    "\n",
    "import warnings \n",
    "warnings.filterwarnings(action=\"ignore\") #waring을 무시하도록 처리"
   ]
  },
  {
   "cell_type": "markdown",
   "metadata": {},
   "source": [
    "# 챗봇에게 채팅한 데이터 가져오기"
   ]
  },
  {
   "cell_type": "code",
   "execution_count": 3,
   "metadata": {},
   "outputs": [
    {
     "data": {
      "text/html": [
       "<div>\n",
       "<style scoped>\n",
       "    .dataframe tbody tr th:only-of-type {\n",
       "        vertical-align: middle;\n",
       "    }\n",
       "\n",
       "    .dataframe tbody tr th {\n",
       "        vertical-align: top;\n",
       "    }\n",
       "\n",
       "    .dataframe thead th {\n",
       "        text-align: right;\n",
       "    }\n",
       "</style>\n",
       "<table border=\"1\" class=\"dataframe\">\n",
       "  <thead>\n",
       "    <tr style=\"text-align: right;\">\n",
       "      <th></th>\n",
       "      <th>Q</th>\n",
       "      <th>A</th>\n",
       "      <th>label</th>\n",
       "    </tr>\n",
       "  </thead>\n",
       "  <tbody>\n",
       "    <tr>\n",
       "      <th>0</th>\n",
       "      <td>12시 땡!</td>\n",
       "      <td>하루가 또 가네요.</td>\n",
       "      <td>0</td>\n",
       "    </tr>\n",
       "    <tr>\n",
       "      <th>1</th>\n",
       "      <td>1지망 학교 떨어졌어</td>\n",
       "      <td>위로해 드립니다.</td>\n",
       "      <td>0</td>\n",
       "    </tr>\n",
       "    <tr>\n",
       "      <th>2</th>\n",
       "      <td>3박4일 놀러가고 싶다</td>\n",
       "      <td>여행은 언제나 좋죠.</td>\n",
       "      <td>0</td>\n",
       "    </tr>\n",
       "    <tr>\n",
       "      <th>3</th>\n",
       "      <td>3박4일 정도 놀러가고 싶다</td>\n",
       "      <td>여행은 언제나 좋죠.</td>\n",
       "      <td>0</td>\n",
       "    </tr>\n",
       "    <tr>\n",
       "      <th>4</th>\n",
       "      <td>PPL 심하네</td>\n",
       "      <td>눈살이 찌푸려지죠.</td>\n",
       "      <td>0</td>\n",
       "    </tr>\n",
       "    <tr>\n",
       "      <th>...</th>\n",
       "      <td>...</td>\n",
       "      <td>...</td>\n",
       "      <td>...</td>\n",
       "    </tr>\n",
       "    <tr>\n",
       "      <th>11818</th>\n",
       "      <td>훔쳐보는 것도 눈치 보임.</td>\n",
       "      <td>티가 나니까 눈치가 보이는 거죠!</td>\n",
       "      <td>2</td>\n",
       "    </tr>\n",
       "    <tr>\n",
       "      <th>11819</th>\n",
       "      <td>훔쳐보는 것도 눈치 보임.</td>\n",
       "      <td>훔쳐보는 거 티나나봐요.</td>\n",
       "      <td>2</td>\n",
       "    </tr>\n",
       "    <tr>\n",
       "      <th>11820</th>\n",
       "      <td>흑기사 해주는 짝남.</td>\n",
       "      <td>설렜겠어요.</td>\n",
       "      <td>2</td>\n",
       "    </tr>\n",
       "    <tr>\n",
       "      <th>11821</th>\n",
       "      <td>힘든 연애 좋은 연애라는게 무슨 차이일까?</td>\n",
       "      <td>잘 헤어질 수 있는 사이 여부인 거 같아요.</td>\n",
       "      <td>2</td>\n",
       "    </tr>\n",
       "    <tr>\n",
       "      <th>11822</th>\n",
       "      <td>힘들어서 결혼할까봐</td>\n",
       "      <td>도피성 결혼은 하지 않길 바라요.</td>\n",
       "      <td>2</td>\n",
       "    </tr>\n",
       "  </tbody>\n",
       "</table>\n",
       "<p>11823 rows × 3 columns</p>\n",
       "</div>"
      ],
      "text/plain": [
       "                             Q                         A  label\n",
       "0                       12시 땡!                하루가 또 가네요.      0\n",
       "1                  1지망 학교 떨어졌어                 위로해 드립니다.      0\n",
       "2                 3박4일 놀러가고 싶다               여행은 언제나 좋죠.      0\n",
       "3              3박4일 정도 놀러가고 싶다               여행은 언제나 좋죠.      0\n",
       "4                      PPL 심하네                눈살이 찌푸려지죠.      0\n",
       "...                        ...                       ...    ...\n",
       "11818           훔쳐보는 것도 눈치 보임.        티가 나니까 눈치가 보이는 거죠!      2\n",
       "11819           훔쳐보는 것도 눈치 보임.             훔쳐보는 거 티나나봐요.      2\n",
       "11820              흑기사 해주는 짝남.                    설렜겠어요.      2\n",
       "11821  힘든 연애 좋은 연애라는게 무슨 차이일까?  잘 헤어질 수 있는 사이 여부인 거 같아요.      2\n",
       "11822               힘들어서 결혼할까봐        도피성 결혼은 하지 않길 바라요.      2\n",
       "\n",
       "[11823 rows x 3 columns]"
      ]
     },
     "execution_count": 3,
     "metadata": {},
     "output_type": "execute_result"
    }
   ],
   "source": [
    "df = pd.read_csv('../Project4 Data/ChatBotData.csv')\n",
    "df"
   ]
  },
  {
   "cell_type": "code",
   "execution_count": 4,
   "metadata": {},
   "outputs": [
    {
     "name": "stdout",
     "output_type": "stream",
     "text": [
      "<class 'pandas.core.frame.DataFrame'>\n",
      "RangeIndex: 11823 entries, 0 to 11822\n",
      "Data columns (total 3 columns):\n",
      " #   Column  Non-Null Count  Dtype \n",
      "---  ------  --------------  ----- \n",
      " 0   Q       11823 non-null  object\n",
      " 1   A       11823 non-null  object\n",
      " 2   label   11823 non-null  int64 \n",
      "dtypes: int64(1), object(2)\n",
      "memory usage: 277.2+ KB\n"
     ]
    }
   ],
   "source": [
    "df.info()"
   ]
  },
  {
   "cell_type": "code",
   "execution_count": 5,
   "metadata": {},
   "outputs": [
    {
     "data": {
      "text/html": [
       "<div>\n",
       "<style scoped>\n",
       "    .dataframe tbody tr th:only-of-type {\n",
       "        vertical-align: middle;\n",
       "    }\n",
       "\n",
       "    .dataframe tbody tr th {\n",
       "        vertical-align: top;\n",
       "    }\n",
       "\n",
       "    .dataframe thead th {\n",
       "        text-align: right;\n",
       "    }\n",
       "</style>\n",
       "<table border=\"1\" class=\"dataframe\">\n",
       "  <thead>\n",
       "    <tr style=\"text-align: right;\">\n",
       "      <th></th>\n",
       "      <th>Message</th>\n",
       "      <th>category</th>\n",
       "    </tr>\n",
       "  </thead>\n",
       "  <tbody>\n",
       "    <tr>\n",
       "      <th>0</th>\n",
       "      <td>12시 땡!</td>\n",
       "      <td>0</td>\n",
       "    </tr>\n",
       "    <tr>\n",
       "      <th>1</th>\n",
       "      <td>1지망 학교 떨어졌어</td>\n",
       "      <td>0</td>\n",
       "    </tr>\n",
       "    <tr>\n",
       "      <th>2</th>\n",
       "      <td>3박4일 놀러가고 싶다</td>\n",
       "      <td>0</td>\n",
       "    </tr>\n",
       "    <tr>\n",
       "      <th>3</th>\n",
       "      <td>3박4일 정도 놀러가고 싶다</td>\n",
       "      <td>0</td>\n",
       "    </tr>\n",
       "    <tr>\n",
       "      <th>4</th>\n",
       "      <td>PPL 심하네</td>\n",
       "      <td>0</td>\n",
       "    </tr>\n",
       "    <tr>\n",
       "      <th>...</th>\n",
       "      <td>...</td>\n",
       "      <td>...</td>\n",
       "    </tr>\n",
       "    <tr>\n",
       "      <th>11818</th>\n",
       "      <td>훔쳐보는 것도 눈치 보임.</td>\n",
       "      <td>2</td>\n",
       "    </tr>\n",
       "    <tr>\n",
       "      <th>11819</th>\n",
       "      <td>훔쳐보는 것도 눈치 보임.</td>\n",
       "      <td>2</td>\n",
       "    </tr>\n",
       "    <tr>\n",
       "      <th>11820</th>\n",
       "      <td>흑기사 해주는 짝남.</td>\n",
       "      <td>2</td>\n",
       "    </tr>\n",
       "    <tr>\n",
       "      <th>11821</th>\n",
       "      <td>힘든 연애 좋은 연애라는게 무슨 차이일까?</td>\n",
       "      <td>2</td>\n",
       "    </tr>\n",
       "    <tr>\n",
       "      <th>11822</th>\n",
       "      <td>힘들어서 결혼할까봐</td>\n",
       "      <td>2</td>\n",
       "    </tr>\n",
       "  </tbody>\n",
       "</table>\n",
       "<p>11823 rows × 2 columns</p>\n",
       "</div>"
      ],
      "text/plain": [
       "                       Message  category\n",
       "0                       12시 땡!         0\n",
       "1                  1지망 학교 떨어졌어         0\n",
       "2                 3박4일 놀러가고 싶다         0\n",
       "3              3박4일 정도 놀러가고 싶다         0\n",
       "4                      PPL 심하네         0\n",
       "...                        ...       ...\n",
       "11818           훔쳐보는 것도 눈치 보임.         2\n",
       "11819           훔쳐보는 것도 눈치 보임.         2\n",
       "11820              흑기사 해주는 짝남.         2\n",
       "11821  힘든 연애 좋은 연애라는게 무슨 차이일까?         2\n",
       "11822               힘들어서 결혼할까봐         2\n",
       "\n",
       "[11823 rows x 2 columns]"
      ]
     },
     "execution_count": 5,
     "metadata": {},
     "output_type": "execute_result"
    }
   ],
   "source": [
    "df = df.drop(['A'], axis='columns').rename({'Q':'Message', 'label':'category'}, axis=1)\n",
    "df"
   ]
  },
  {
   "cell_type": "code",
   "execution_count": 6,
   "metadata": {},
   "outputs": [
    {
     "data": {
      "text/html": [
       "<div>\n",
       "<style scoped>\n",
       "    .dataframe tbody tr th:only-of-type {\n",
       "        vertical-align: middle;\n",
       "    }\n",
       "\n",
       "    .dataframe tbody tr th {\n",
       "        vertical-align: top;\n",
       "    }\n",
       "\n",
       "    .dataframe thead th {\n",
       "        text-align: right;\n",
       "    }\n",
       "</style>\n",
       "<table border=\"1\" class=\"dataframe\">\n",
       "  <thead>\n",
       "    <tr style=\"text-align: right;\">\n",
       "      <th></th>\n",
       "      <th>Message</th>\n",
       "      <th>category</th>\n",
       "    </tr>\n",
       "  </thead>\n",
       "  <tbody>\n",
       "    <tr>\n",
       "      <th>0</th>\n",
       "      <td>12시 땡!</td>\n",
       "      <td>일상</td>\n",
       "    </tr>\n",
       "    <tr>\n",
       "      <th>1</th>\n",
       "      <td>1지망 학교 떨어졌어</td>\n",
       "      <td>일상</td>\n",
       "    </tr>\n",
       "    <tr>\n",
       "      <th>2</th>\n",
       "      <td>3박4일 놀러가고 싶다</td>\n",
       "      <td>일상</td>\n",
       "    </tr>\n",
       "    <tr>\n",
       "      <th>3</th>\n",
       "      <td>3박4일 정도 놀러가고 싶다</td>\n",
       "      <td>일상</td>\n",
       "    </tr>\n",
       "    <tr>\n",
       "      <th>4</th>\n",
       "      <td>PPL 심하네</td>\n",
       "      <td>일상</td>\n",
       "    </tr>\n",
       "    <tr>\n",
       "      <th>...</th>\n",
       "      <td>...</td>\n",
       "      <td>...</td>\n",
       "    </tr>\n",
       "    <tr>\n",
       "      <th>11818</th>\n",
       "      <td>훔쳐보는 것도 눈치 보임.</td>\n",
       "      <td>사랑(긍정)</td>\n",
       "    </tr>\n",
       "    <tr>\n",
       "      <th>11819</th>\n",
       "      <td>훔쳐보는 것도 눈치 보임.</td>\n",
       "      <td>사랑(긍정)</td>\n",
       "    </tr>\n",
       "    <tr>\n",
       "      <th>11820</th>\n",
       "      <td>흑기사 해주는 짝남.</td>\n",
       "      <td>사랑(긍정)</td>\n",
       "    </tr>\n",
       "    <tr>\n",
       "      <th>11821</th>\n",
       "      <td>힘든 연애 좋은 연애라는게 무슨 차이일까?</td>\n",
       "      <td>사랑(긍정)</td>\n",
       "    </tr>\n",
       "    <tr>\n",
       "      <th>11822</th>\n",
       "      <td>힘들어서 결혼할까봐</td>\n",
       "      <td>사랑(긍정)</td>\n",
       "    </tr>\n",
       "  </tbody>\n",
       "</table>\n",
       "<p>11823 rows × 2 columns</p>\n",
       "</div>"
      ],
      "text/plain": [
       "                       Message category\n",
       "0                       12시 땡!       일상\n",
       "1                  1지망 학교 떨어졌어       일상\n",
       "2                 3박4일 놀러가고 싶다       일상\n",
       "3              3박4일 정도 놀러가고 싶다       일상\n",
       "4                      PPL 심하네       일상\n",
       "...                        ...      ...\n",
       "11818           훔쳐보는 것도 눈치 보임.   사랑(긍정)\n",
       "11819           훔쳐보는 것도 눈치 보임.   사랑(긍정)\n",
       "11820              흑기사 해주는 짝남.   사랑(긍정)\n",
       "11821  힘든 연애 좋은 연애라는게 무슨 차이일까?   사랑(긍정)\n",
       "11822               힘들어서 결혼할까봐   사랑(긍정)\n",
       "\n",
       "[11823 rows x 2 columns]"
      ]
     },
     "execution_count": 6,
     "metadata": {},
     "output_type": "execute_result"
    }
   ],
   "source": [
    "df['category'].replace({0: '일상', 1: '이별(부정)', 2: '사랑(긍정)'}, inplace=True)\n",
    "df"
   ]
  },
  {
   "cell_type": "code",
   "execution_count": 7,
   "metadata": {},
   "outputs": [],
   "source": [
    "# 데이터에 사용된 중복이 없는 전체 단어 갯수를 리턴\n",
    "def get_vocab_size(df):\n",
    "    results = set()\n",
    "    df['Message'].str.lower().str.split().apply(results.update)\n",
    "    return len(results)"
   ]
  },
  {
   "cell_type": "code",
   "execution_count": 8,
   "metadata": {},
   "outputs": [],
   "source": [
    "vocab_size = get_vocab_size(df)"
   ]
  },
  {
   "cell_type": "code",
   "execution_count": 9,
   "metadata": {},
   "outputs": [],
   "source": [
    "Messages = df['Message'].to_list()\n",
    "encoded_Messages = [one_hot(Message, vocab_size) for Message in Messages]"
   ]
  },
  {
   "cell_type": "code",
   "execution_count": 10,
   "metadata": {},
   "outputs": [
    {
     "name": "stdout",
     "output_type": "stream",
     "text": [
      "15\n"
     ]
    }
   ],
   "source": [
    "# 데이터에서 가장 긴 문장의 단어 갯수를 리턴\n",
    "def get_max_length(df):\n",
    "    max_length = 0\n",
    "    for row in df['Message']:\n",
    "        if len(row.split(\" \")) > max_length:\n",
    "            max_length = len(row.split(\" \"))\n",
    "    return max_length\n",
    "\n",
    "max_length = get_max_length(df)\n",
    "print(max_length)"
   ]
  },
  {
   "cell_type": "code",
   "execution_count": 11,
   "metadata": {},
   "outputs": [],
   "source": [
    "# 각 문장마다 제로패딩을 넣어서 가장 긴 문장과 길이를 동일하게 만듦\n",
    "padded_Messages_encoding = pad_sequences(encoded_Messages, maxlen=max_length, padding='post')"
   ]
  },
  {
   "cell_type": "code",
   "execution_count": 12,
   "metadata": {},
   "outputs": [
    {
     "data": {
      "text/plain": [
       "array([[ 2282,   911,     0, ...,     0,     0,     0],\n",
       "       [ 2513, 10267, 11184, ...,     0,     0,     0],\n",
       "       [11956,  4841, 13081, ...,     0,     0,     0],\n",
       "       ...,\n",
       "       [13783,    85, 13550, ...,     0,     0,     0],\n",
       "       [ 9303, 13426,  3603, ...,     0,     0,     0],\n",
       "       [11877,  6236,     0, ...,     0,     0,     0]])"
      ]
     },
     "execution_count": 12,
     "metadata": {},
     "output_type": "execute_result"
    }
   ],
   "source": [
    "# 문장의 벡터 확인\n",
    "padded_Messages_encoding"
   ]
  },
  {
   "cell_type": "code",
   "execution_count": 13,
   "metadata": {},
   "outputs": [],
   "source": [
    "# 분류 항목(레이블)을 원-핫 인코딩: 3가지로 분류\n",
    "categories = df['category'].to_list()\n",
    "def category_encode(category):\n",
    "    if category == '일상':\n",
    "        return [1,0,0]\n",
    "    elif category == '이별(부정)':\n",
    "        return [0,1,0]\n",
    "    else:\n",
    "        return [0,0,1]\n",
    "\n",
    "encoded_category = [category_encode(category) for category in categories]"
   ]
  },
  {
   "cell_type": "code",
   "execution_count": 14,
   "metadata": {},
   "outputs": [
    {
     "name": "stdout",
     "output_type": "stream",
     "text": [
      "[1, 0, 0]\n",
      "[1, 0, 0]\n",
      "[0, 0, 1]\n",
      "[0, 1, 0]\n",
      "[0, 1, 0]\n"
     ]
    }
   ],
   "source": [
    "print(encoded_category[0])\n",
    "print(encoded_category[1111])\n",
    "print(encoded_category[11111])\n",
    "print(encoded_category[7777])\n",
    "print(encoded_category[5555])"
   ]
  },
  {
   "cell_type": "code",
   "execution_count": 15,
   "metadata": {},
   "outputs": [],
   "source": [
    "model = Sequential()\n",
    "\n",
    "# 문맥 벡터 생성 단계\n",
    "model.add(Embedding(vocab_size, 5, input_length=max_length))\n",
    "model.add(LSTM(64))\n",
    "#-----------------------------------------------\n",
    "# 분류 단계\n",
    "model.add(Dense(32, activation='relu'))\n",
    "model.add(Dropout(0.3))\n",
    "model.add(BatchNormalization())\n",
    "model.add(Dense(3, activation='softmax'))\n",
    "#-----------------------------------------------\n",
    "#모델 컴파일\n",
    "model.compile(loss='categorical_crossentropy',\n",
    "             optimizer='adam',\n",
    "             metrics=['accuracy'])"
   ]
  },
  {
   "cell_type": "code",
   "execution_count": 16,
   "metadata": {
    "scrolled": true
   },
   "outputs": [
    {
     "data": {
      "image/png": "[encoded data removed]",
      "text/plain": [
       "<IPython.core.display.Image object>"
      ]
     },
     "execution_count": 16,
     "metadata": {},
     "output_type": "execute_result"
    }
   ],
   "source": [
    "# 모델 시각화\n",
    "plot_model(model, to_file='model.png')\n",
    "plot_model(model, to_file='model_shapes.png', show_shapes=True)"
   ]
  },
  {
   "cell_type": "code",
   "execution_count": 17,
   "metadata": {},
   "outputs": [],
   "source": [
    "from sklearn.model_selection import train_test_split"
   ]
  },
  {
   "cell_type": "code",
   "execution_count": 18,
   "metadata": {},
   "outputs": [],
   "source": [
    "X_train, X_test, Y_train, Y_test = train_test_split(np.array(padded_Messages_encoding), # 데이터 프레임의 속성들\n",
    "                 np.array(encoded_category), # 맞추어야 할 정답\n",
    "                 test_size = 0.2, # 테스트데이터 20%지정, 훈련데이터 80%할당\n",
    "                 stratify = np.array(encoded_category), # 쏠려서 분배되는것을 방지\n",
    "                 shuffle= True, #데이터 섞기\n",
    "                 random_state = 28 #seed값\n",
    "                )"
   ]
  },
  {
   "cell_type": "code",
   "execution_count": 19,
   "metadata": {},
   "outputs": [
    {
     "data": {
      "text/plain": [
       "(9458, 15)"
      ]
     },
     "execution_count": 19,
     "metadata": {},
     "output_type": "execute_result"
    }
   ],
   "source": [
    "X_train.shape"
   ]
  },
  {
   "cell_type": "code",
   "execution_count": 20,
   "metadata": {},
   "outputs": [
    {
     "name": "stdout",
     "output_type": "stream",
     "text": [
      "Train 진행\n",
      "Epoch 1/100\n",
      "290/296 [============================>.] - ETA: 0s - loss: 0.9739 - accuracy: 0.5094\n",
      "Epoch 00001: accuracy improved from -inf to 0.51036, saving model to best_model.h5\n",
      "296/296 [==============================] - 2s 5ms/step - loss: 0.9723 - accuracy: 0.5104\n",
      "Epoch 2/100\n",
      "290/296 [============================>.] - ETA: 0s - loss: 0.7230 - accuracy: 0.6754\n",
      "Epoch 00002: accuracy improved from 0.51036 to 0.67604, saving model to best_model.h5\n",
      "296/296 [==============================] - 2s 6ms/step - loss: 0.7218 - accuracy: 0.6760\n",
      "Epoch 3/100\n",
      "290/296 [============================>.] - ETA: 0s - loss: 0.5630 - accuracy: 0.7777\n",
      "Epoch 00003: accuracy improved from 0.67604 to 0.77617, saving model to best_model.h5\n",
      "296/296 [==============================] - 2s 6ms/step - loss: 0.5660 - accuracy: 0.7762\n",
      "Epoch 4/100\n",
      "291/296 [============================>.] - ETA: 0s - loss: 0.4754 - accuracy: 0.8221\n",
      "Epoch 00004: accuracy improved from 0.77617 to 0.82153, saving model to best_model.h5\n",
      "296/296 [==============================] - 2s 6ms/step - loss: 0.4776 - accuracy: 0.8215\n",
      "Epoch 5/100\n",
      "296/296 [==============================] - ETA: 0s - loss: 0.3975 - accuracy: 0.8603\n",
      "Epoch 00005: accuracy improved from 0.82153 to 0.86033, saving model to best_model.h5\n",
      "296/296 [==============================] - 2s 6ms/step - loss: 0.3975 - accuracy: 0.8603\n",
      "Epoch 6/100\n",
      "296/296 [==============================] - ETA: 0s - loss: 0.3574 - accuracy: 0.8781\n",
      "Epoch 00006: accuracy improved from 0.86033 to 0.87809, saving model to best_model.h5\n",
      "296/296 [==============================] - 2s 6ms/step - loss: 0.3574 - accuracy: 0.8781\n",
      "Epoch 7/100\n",
      "290/296 [============================>.] - ETA: 0s - loss: 0.2881 - accuracy: 0.9042\n",
      "Epoch 00007: accuracy improved from 0.87809 to 0.90453, saving model to best_model.h5\n",
      "296/296 [==============================] - 2s 6ms/step - loss: 0.2868 - accuracy: 0.9045\n",
      "Epoch 8/100\n",
      "289/296 [============================>.] - ETA: 0s - loss: 0.2176 - accuracy: 0.9276\n",
      "Epoch 00008: accuracy improved from 0.90453 to 0.92736, saving model to best_model.h5\n",
      "296/296 [==============================] - 2s 7ms/step - loss: 0.2187 - accuracy: 0.9274\n",
      "Epoch 9/100\n",
      "290/296 [============================>.] - ETA: 0s - loss: 0.1798 - accuracy: 0.9428\n",
      "Epoch 00009: accuracy improved from 0.92736 to 0.94269, saving model to best_model.h5\n",
      "296/296 [==============================] - 2s 5ms/step - loss: 0.1803 - accuracy: 0.9427\n",
      "Epoch 10/100\n",
      "290/296 [============================>.] - ETA: 0s - loss: 0.1442 - accuracy: 0.9544\n",
      "Epoch 00010: accuracy improved from 0.94269 to 0.95464, saving model to best_model.h5\n",
      "296/296 [==============================] - 2s 5ms/step - loss: 0.1438 - accuracy: 0.9546\n",
      "Epoch 11/100\n",
      "291/296 [============================>.] - ETA: 0s - loss: 0.1279 - accuracy: 0.9621\n",
      "Epoch 00011: accuracy improved from 0.95464 to 0.96215, saving model to best_model.h5\n",
      "296/296 [==============================] - 2s 5ms/step - loss: 0.1273 - accuracy: 0.9621\n",
      "Epoch 12/100\n",
      "293/296 [============================>.] - ETA: 0s - loss: 0.1130 - accuracy: 0.9666\n",
      "Epoch 00012: accuracy improved from 0.96215 to 0.96680, saving model to best_model.h5\n",
      "296/296 [==============================] - 2s 6ms/step - loss: 0.1125 - accuracy: 0.9668\n",
      "Epoch 13/100\n",
      "296/296 [==============================] - ETA: 0s - loss: 0.1082 - accuracy: 0.9669\n",
      "Epoch 00013: accuracy improved from 0.96680 to 0.96691, saving model to best_model.h5\n",
      "296/296 [==============================] - 2s 5ms/step - loss: 0.1082 - accuracy: 0.9669\n",
      "Epoch 14/100\n",
      "289/296 [============================>.] - ETA: 0s - loss: 0.0966 - accuracy: 0.9697\n",
      "Epoch 00014: accuracy improved from 0.96691 to 0.96955, saving model to best_model.h5\n",
      "296/296 [==============================] - 2s 5ms/step - loss: 0.0970 - accuracy: 0.9695\n",
      "Epoch 15/100\n",
      "295/296 [============================>.] - ETA: 0s - loss: 0.0920 - accuracy: 0.9724\n",
      "Epoch 00015: accuracy improved from 0.96955 to 0.97230, saving model to best_model.h5\n",
      "296/296 [==============================] - 2s 6ms/step - loss: 0.0921 - accuracy: 0.9723\n",
      "Epoch 16/100\n",
      "296/296 [==============================] - ETA: 0s - loss: 0.0849 - accuracy: 0.9745\n",
      "Epoch 00016: accuracy improved from 0.97230 to 0.97452, saving model to best_model.h5\n",
      "296/296 [==============================] - 2s 6ms/step - loss: 0.0849 - accuracy: 0.9745\n",
      "Epoch 17/100\n",
      "287/296 [============================>.] - ETA: 0s - loss: 0.0766 - accuracy: 0.9752\n",
      "Epoch 00017: accuracy did not improve from 0.97452\n",
      "296/296 [==============================] - 2s 5ms/step - loss: 0.0791 - accuracy: 0.9745\n",
      "Epoch 18/100\n",
      "291/296 [============================>.] - ETA: 0s - loss: 0.0767 - accuracy: 0.9765\n",
      "Epoch 00018: accuracy improved from 0.97452 to 0.97621, saving model to best_model.h5\n",
      "296/296 [==============================] - 2s 5ms/step - loss: 0.0776 - accuracy: 0.9762\n",
      "Epoch 19/100\n",
      "289/296 [============================>.] - ETA: 0s - loss: 0.0672 - accuracy: 0.9791\n",
      "Epoch 00019: accuracy improved from 0.97621 to 0.97896, saving model to best_model.h5\n",
      "296/296 [==============================] - 2s 5ms/step - loss: 0.0680 - accuracy: 0.9790\n",
      "Epoch 20/100\n",
      "290/296 [============================>.] - ETA: 0s - loss: 0.0687 - accuracy: 0.9779\n",
      "Epoch 00020: accuracy did not improve from 0.97896\n",
      "296/296 [==============================] - 2s 6ms/step - loss: 0.0695 - accuracy: 0.9778\n",
      "Epoch 21/100\n",
      "293/296 [============================>.] - ETA: 0s - loss: 0.0636 - accuracy: 0.9799\n",
      "Epoch 00021: accuracy improved from 0.97896 to 0.97991, saving model to best_model.h5\n",
      "296/296 [==============================] - 2s 6ms/step - loss: 0.0637 - accuracy: 0.9799\n",
      "Epoch 22/100\n",
      "290/296 [============================>.] - ETA: 0s - loss: 0.0642 - accuracy: 0.9783\n",
      "Epoch 00022: accuracy did not improve from 0.97991\n",
      "296/296 [==============================] - 2s 5ms/step - loss: 0.0648 - accuracy: 0.9783\n",
      "Epoch 23/100\n",
      "288/296 [============================>.] - ETA: 0s - loss: 0.0651 - accuracy: 0.9769\n",
      "Epoch 00023: accuracy did not improve from 0.97991\n",
      "296/296 [==============================] - 2s 5ms/step - loss: 0.0651 - accuracy: 0.9770\n",
      "Epoch 24/100\n",
      "289/296 [============================>.] - ETA: 0s - loss: 0.0605 - accuracy: 0.9797\n",
      "Epoch 00024: accuracy did not improve from 0.97991\n",
      "296/296 [==============================] - 2s 5ms/step - loss: 0.0610 - accuracy: 0.9794\n",
      "Epoch 25/100\n",
      "291/296 [============================>.] - ETA: 0s - loss: 0.0586 - accuracy: 0.9803\n",
      "Epoch 00025: accuracy improved from 0.97991 to 0.98044, saving model to best_model.h5\n",
      "296/296 [==============================] - 2s 5ms/step - loss: 0.0586 - accuracy: 0.9804\n",
      "Epoch 26/100\n",
      "291/296 [============================>.] - ETA: 0s - loss: 0.0647 - accuracy: 0.9808\n",
      "Epoch 00026: accuracy improved from 0.98044 to 0.98076, saving model to best_model.h5\n",
      "296/296 [==============================] - 2s 5ms/step - loss: 0.0643 - accuracy: 0.9808\n",
      "Epoch 27/100\n",
      "291/296 [============================>.] - ETA: 0s - loss: 0.0604 - accuracy: 0.9806\n",
      "Epoch 00027: accuracy did not improve from 0.98076\n",
      "296/296 [==============================] - 2s 5ms/step - loss: 0.0604 - accuracy: 0.9804\n",
      "Epoch 28/100\n",
      "290/296 [============================>.] - ETA: 0s - loss: 0.0522 - accuracy: 0.9820\n",
      "Epoch 00028: accuracy improved from 0.98076 to 0.98213, saving model to best_model.h5\n",
      "296/296 [==============================] - 2s 5ms/step - loss: 0.0518 - accuracy: 0.9821\n",
      "Epoch 29/100\n",
      "288/296 [============================>.] - ETA: 0s - loss: 0.0487 - accuracy: 0.9840\n",
      "Epoch 00029: accuracy improved from 0.98213 to 0.98403, saving model to best_model.h5\n",
      "296/296 [==============================] - 2s 5ms/step - loss: 0.0486 - accuracy: 0.9840\n",
      "Epoch 30/100\n",
      "289/296 [============================>.] - ETA: 0s - loss: 0.0491 - accuracy: 0.9842\n",
      "Epoch 00030: accuracy did not improve from 0.98403\n",
      "296/296 [==============================] - 2s 5ms/step - loss: 0.0507 - accuracy: 0.9838\n",
      "Epoch 31/100\n",
      "290/296 [============================>.] - ETA: 0s - loss: 0.0481 - accuracy: 0.9841\n",
      "Epoch 00031: accuracy did not improve from 0.98403\n",
      "296/296 [==============================] - 2s 5ms/step - loss: 0.0483 - accuracy: 0.9839\n",
      "Epoch 32/100\n"
     ]
    },
    {
     "name": "stdout",
     "output_type": "stream",
     "text": [
      "291/296 [============================>.] - ETA: 0s - loss: 0.0507 - accuracy: 0.9821\n",
      "Epoch 00032: accuracy did not improve from 0.98403\n",
      "296/296 [==============================] - 2s 5ms/step - loss: 0.0513 - accuracy: 0.9819\n",
      "Epoch 33/100\n",
      "291/296 [============================>.] - ETA: 0s - loss: 0.0584 - accuracy: 0.9822\n",
      "Epoch 00033: accuracy did not improve from 0.98403\n",
      "296/296 [==============================] - 2s 5ms/step - loss: 0.0589 - accuracy: 0.9818\n",
      "Epoch 34/100\n",
      "291/296 [============================>.] - ETA: 0s - loss: 0.0499 - accuracy: 0.9812\n",
      "Epoch 00034: accuracy did not improve from 0.98403\n",
      "296/296 [==============================] - 2s 5ms/step - loss: 0.0501 - accuracy: 0.9810\n",
      "Epoch 00034: early stopping\n"
     ]
    }
   ],
   "source": [
    "print('Train 진행')\n",
    "#조기종료\n",
    "es = EarlyStopping(monitor='loss', patience=3, verbose=2, mode='auto')\n",
    "#체크포인트\n",
    "mc = ModelCheckpoint('best_model.h5', monitor='accuracy', verbose=2, mode='auto', save_best_only=True)\n",
    "history = model.fit(X_train, Y_train, epochs=100, callbacks=[es, mc]) #batch_size는 디폴트로 설정"
   ]
  },
  {
   "cell_type": "code",
   "execution_count": 21,
   "metadata": {},
   "outputs": [
    {
     "data": {
      "image/png": "[encoded data removed]",
      "text/plain": [
       "<Figure size 432x288 with 1 Axes>"
      ]
     },
     "metadata": {
      "needs_background": "light"
     },
     "output_type": "display_data"
    }
   ],
   "source": [
    "# 훈련 과정 시각화 (정확도와 손실률)\n",
    "plt.plot(history.history['accuracy'])\n",
    "plt.plot(history.history['loss'])\n",
    "plt.title('Model Accuracy & Loss')\n",
    "plt.xlabel('Epoch')\n",
    "plt.ylabel('Rate')\n",
    "plt.legend(['Accuracy','Loss'], loc='upper left')\n",
    "plt.show()"
   ]
  },
  {
   "cell_type": "code",
   "execution_count": 22,
   "metadata": {},
   "outputs": [
    {
     "name": "stdout",
     "output_type": "stream",
     "text": [
      "296/296 - 0s - loss: 0.0299 - accuracy: 0.9893\n",
      "Train accuracy: 0.989321231842041\n"
     ]
    }
   ],
   "source": [
    "# 트레이닝 학습 결과\n",
    "score, acc = model.evaluate(X_train, Y_train, verbose=2)\n",
    "print('Train accuracy:', acc)"
   ]
  },
  {
   "cell_type": "code",
   "execution_count": 23,
   "metadata": {},
   "outputs": [
    {
     "name": "stdout",
     "output_type": "stream",
     "text": [
      "Test accuracy: 0.6921775898520085\n"
     ]
    }
   ],
   "source": [
    "from sklearn.metrics import accuracy_score\n",
    "# 테스트 결과\n",
    "Y_pred = model.predict(X_test)\n",
    "Y_pred_class = np.argmax(Y_pred, axis=1)\n",
    "Y_test_class = np.argmax(Y_test, axis=1)\n",
    "print('Test accuracy:', accuracy_score(Y_pred_class, Y_test_class))"
   ]
  },
  {
   "cell_type": "code",
   "execution_count": 24,
   "metadata": {},
   "outputs": [
    {
     "name": "stdout",
     "output_type": "stream",
     "text": [
      "Model: \"sequential\"\n",
      "_________________________________________________________________\n",
      "Layer (type)                 Output Shape              Param #   \n",
      "=================================================================\n",
      "embedding (Embedding)        (None, 15, 5)             71410     \n",
      "_________________________________________________________________\n",
      "lstm (LSTM)                  (None, 64)                17920     \n",
      "_________________________________________________________________\n",
      "dense (Dense)                (None, 32)                2080      \n",
      "_________________________________________________________________\n",
      "dropout (Dropout)            (None, 32)                0         \n",
      "_________________________________________________________________\n",
      "batch_normalization (BatchNo (None, 32)                128       \n",
      "_________________________________________________________________\n",
      "dense_1 (Dense)              (None, 3)                 99        \n",
      "=================================================================\n",
      "Total params: 91,637\n",
      "Trainable params: 91,573\n",
      "Non-trainable params: 64\n",
      "_________________________________________________________________\n"
     ]
    }
   ],
   "source": [
    "model.summary()"
   ]
  },
  {
   "cell_type": "code",
   "execution_count": 25,
   "metadata": {},
   "outputs": [
    {
     "name": "stdout",
     "output_type": "stream",
     "text": [
      "              precision    recall  f1-score   support\n",
      "\n",
      "           0       0.74      0.70      0.72      1058\n",
      "           1       0.61      0.70      0.65       714\n",
      "           2       0.73      0.67      0.70       593\n",
      "\n",
      "    accuracy                           0.69      2365\n",
      "   macro avg       0.69      0.69      0.69      2365\n",
      "weighted avg       0.70      0.69      0.69      2365\n",
      "\n",
      "[[739 239  80]\n",
      " [146 503  65]\n",
      " [114  84 395]]\n"
     ]
    }
   ],
   "source": [
    "from sklearn.metrics import classification_report,confusion_matrix\n",
    "\n",
    "print(classification_report(Y_test_class,Y_pred_class))\n",
    "print(confusion_matrix(Y_test_class,Y_pred_class))"
   ]
  },
  {
   "cell_type": "code",
   "execution_count": 26,
   "metadata": {},
   "outputs": [],
   "source": [
    "# 모델 저장\n",
    "model.save('model1.h5')\n",
    "model.save_weights('model1_w.h5')"
   ]
  },
  {
   "cell_type": "code",
   "execution_count": null,
   "metadata": {},
   "outputs": [],
   "source": []
  }
 ],
 "metadata": {
  "kernelspec": {
   "display_name": "Python 3",
   "language": "python",
   "name": "python3"
  },
  "language_info": {
   "codemirror_mode": {
    "name": "ipython",
    "version": 3
   },
   "file_extension": ".py",
   "mimetype": "text/x-python",
   "name": "python",
   "nbconvert_exporter": "python",
   "pygments_lexer": "ipython3",
   "version": "3.7.0"
  }
 },
 "nbformat": 4,
 "nbformat_minor": 2
}
