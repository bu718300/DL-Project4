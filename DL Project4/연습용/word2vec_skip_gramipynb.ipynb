{
 "cells": [
  {
   "cell_type": "code",
   "execution_count": 1,
   "metadata": {
    "id": "XrbWsVZQLeo-"
   },
   "outputs": [],
   "source": [
    "from gensim.models import Word2Vec"
   ]
  },
  {
   "cell_type": "code",
   "execution_count": 2,
   "metadata": {
    "id": "_QN6DltcLkIq"
   },
   "outputs": [],
   "source": [
    "docs = ['you say goodbye  and u say hello']"
   ]
  },
  {
   "cell_type": "code",
   "execution_count": 3,
   "metadata": {
    "id": "rwB3fDwcLsli"
   },
   "outputs": [],
   "source": [
    "sentences = [list(sentence.split(' ')) for sentence in docs]"
   ]
  },
  {
   "cell_type": "code",
   "execution_count": 4,
   "metadata": {
    "id": "Z0AzAPL4L1eN"
   },
   "outputs": [],
   "source": [
    "model = Word2Vec(size=3, window=1, min_count=1, sg=1)\n",
    "#size"
   ]
  },
  {
   "cell_type": "code",
   "execution_count": 5,
   "metadata": {
    "id": "RhApm7fmL8dq"
   },
   "outputs": [],
   "source": [
    "model.build_vocab(sentences)"
   ]
  },
  {
   "cell_type": "code",
   "execution_count": 6,
   "metadata": {
    "colab": {
     "base_uri": "https://localhost:8080/"
    },
    "id": "xBdyNZ2HMCBQ",
    "outputId": "ba36111f-13c0-45f2-9cda-3d58ed7202f6"
   },
   "outputs": [
    {
     "name": "stderr",
     "output_type": "stream",
     "text": [
      "C:\\ProgramData\\Anaconda3\\lib\\site-packages\\ipykernel_launcher.py:1: DeprecationWarning: Call to deprecated `most_similar` (Method will be removed in 4.0.0, use self.wv.most_similar() instead).\n",
      "  \"\"\"Entry point for launching an IPython kernel.\n"
     ]
    },
    {
     "data": {
      "text/plain": [
       "[('goodbye', 0.911342978477478),\n",
       " ('', 0.20081104338169098),\n",
       " ('u', -0.06815242767333984),\n",
       " ('hello', -0.1383374035358429),\n",
       " ('you', -0.1681174337863922),\n",
       " ('and', -0.23079001903533936)]"
      ]
     },
     "execution_count": 6,
     "metadata": {},
     "output_type": "execute_result"
    }
   ],
   "source": [
    "model.most_similar('say')\n",
    "#say를 단어를 가지고, 앞뒤의 단어들을 추론\n",
    "#앞에 있는 단어는 +, 뒤에 있는 단어는 -"
   ]
  },
  {
   "cell_type": "code",
   "execution_count": null,
   "metadata": {
    "id": "Fipkl-rWMGRR"
   },
   "outputs": [],
   "source": []
  }
 ],
 "metadata": {
  "colab": {
   "name": "word2vec-skip-gramipynb",
   "provenance": []
  },
  "kernelspec": {
   "display_name": "Python 3",
   "language": "python",
   "name": "python3"
  },
  "language_info": {
   "codemirror_mode": {
    "name": "ipython",
    "version": 3
   },
   "file_extension": ".py",
   "mimetype": "text/x-python",
   "name": "python",
   "nbconvert_exporter": "python",
   "pygments_lexer": "ipython3",
   "version": "3.7.0"
  }
 },
 "nbformat": 4,
 "nbformat_minor": 1
}
